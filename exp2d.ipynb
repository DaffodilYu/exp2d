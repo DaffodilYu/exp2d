{
 "cells": [
  {
   "cell_type": "markdown",
   "metadata": {},
   "source": [
    "# Exciton-Polaritons in Lattices\n",
    "\n",
    "**by Dmitry R. Gulevich <br>\n",
    "ITMO University, St Petersburg, Russia**\n",
    "\n",
    "Python 3 code to simulate exciton-polaritons in lattices.\n",
    "\n",
    "### Contents:\n",
    "* Section 1: \n",
    "* Section 2: \n",
    "* Section 3: "
   ]
  },
  {
   "cell_type": "code",
   "execution_count": 8,
   "metadata": {},
   "outputs": [],
   "source": [
    "import math\n",
    "import numpy as np\n",
    "import matplotlib.pyplot as plt\n",
    "%matplotlib inline"
   ]
  },
  {
   "cell_type": "markdown",
   "metadata": {},
   "source": [
    "Physical constants and parameters"
   ]
  },
  {
   "cell_type": "code",
   "execution_count": 9,
   "metadata": {},
   "outputs": [
    {
     "name": "stdout",
     "output_type": "stream",
     "text": [
      "E0 = 0.084135 meV\n"
     ]
    }
   ],
   "source": [
    "me=9.1e-31 # electron mass, kg\n",
    "meff=5.0e-5*me # exciton-polariton effective mass, kg\n",
    "hbar=1.05e-34 # reduced Planck constant, J s\n",
    "dum=3. # um\n",
    "d=dum*1.e-6 # m\n",
    "E0=hbar*hbar/(2.*meff*d*d)/(1.6e-22) # characteristic energy, meV\n",
    "print('E0 = %f meV' % E0)"
   ]
  },
  {
   "cell_type": "code",
   "execution_count": 11,
   "metadata": {},
   "outputs": [
    {
     "data": {
      "image/png": "[encoded data removed]",
      "text/plain": [
       "<Figure size 432x288 with 2 Axes>"
      ]
     },
     "metadata": {},
     "output_type": "display_data"
    }
   ],
   "source": [
    "### Source: ucreate.py\n",
    "\n",
    "Mhalf=10\n",
    "M=2*Mhalf\n",
    "Lcell=1.\n",
    "\n",
    "dr=Lcell/M\n",
    "dr2=dr*dr\n",
    "Uout=20\n",
    "Uin=0\n",
    "\n",
    "Rbound=(0.41/dr)**2\n",
    "U=Uout*np.ones((M,M),dtype=np.float64)\n",
    "for i in range(M):\n",
    "    for j in range(M):\n",
    "#        for cx,cy in [(0,Mhalf),(Mhalf,0),(Mhalf,Mhalf),(Mhalf,M),(M,Mhalf)]:\n",
    "        for cx,cy in [(Mhalf,Mhalf)]:\n",
    "            di=i-cx\n",
    "            dj=j-cy\n",
    "            if(di*di+dj*dj <= Rbound):\n",
    "                U[i,j] = Uin\n",
    "\n",
    "cmap=plt.get_cmap('Blues')\n",
    "data=E0*U.real\n",
    "img=plt.imshow(data.T,interpolation='nearest', cmap = cmap, origin='lower')\n",
    "plt.xticks([])\n",
    "plt.yticks([])\n",
    "plt.colorbar(img,cmap=cmap)\n",
    "plt.show()"
   ]
  },
  {
   "cell_type": "code",
   "execution_count": 12,
   "metadata": {},
   "outputs": [
    {
     "data": {
      "text/plain": [
       "20"
      ]
     },
     "execution_count": 12,
     "metadata": {},
     "output_type": "execute_result"
    }
   ],
   "source": [
    "M"
   ]
  },
  {
   "cell_type": "code",
   "execution_count": 22,
   "metadata": {},
   "outputs": [
    {
     "name": "stdout",
     "output_type": "stream",
     "text": [
      "#\n",
      "# Timing: 2 seconds\n",
      "#\n"
     ]
    }
   ],
   "source": [
    "### Source: lieb-bands.py\n",
    "\n",
    "from scipy.sparse import csc_matrix\n",
    "from scipy.sparse import dia_matrix\n",
    "from scipy.sparse.linalg import eigsh\n",
    "import time\n",
    "\n",
    "#exec(open('ucreate.py').read())\n",
    "\n",
    "NBzones=2\n",
    "Nvals=30\n",
    "Nkpoints=70\n",
    "\n",
    "ky=math.pi\n",
    "\n",
    "### Constructing matrix\n",
    "\n",
    "Imat=np.ones(M*M,dtype=np.complex128)\n",
    "\n",
    "Itop=np.ones(M,dtype=np.complex128)\n",
    "Itop[0]=0.\n",
    "Itopmat=np.array([Itop]*M).ravel()\n",
    "\n",
    "Ibot=np.ones(M,dtype=np.complex128)\n",
    "Ibot[-1]=0.\n",
    "Ibotmat=np.array([Ibot]*M).ravel()\n",
    "\n",
    "'''\n",
    "### Calculating eigenvalues: general\n",
    "start_time = time.time()\n",
    "evals0=np.linalg.eigvalsh(matrix)[:Nvals]/(dr*dr)\n",
    "print('evals0:')\n",
    "print(evals0)\n",
    "print('#')\n",
    "print(\"# Timing: %.f seconds\" % (time.time()-start_time))\n",
    "print('#')\n",
    "'''\n",
    "\n",
    "kxrange=np.linspace(-NBzones*math.pi/Lcell, NBzones*math.pi/Lcell,Nkpoints)\n",
    "\n",
    "start_time = time.time()\n",
    "evlist=[]\n",
    "\n",
    "for kx in kxrange:\n",
    "\n",
    "    ekx=np.exp(-1j*kx*Lcell)\n",
    "    eky=np.exp(-1j*ky*Lcell)\n",
    "    ekytop=np.zeros(M,dtype=np.complex128)\n",
    "    ekybot=np.zeros(M,dtype=np.complex128)\n",
    "    ekytop[-1]=-eky\n",
    "    ekybot[0]=-np.conjugate(eky)\n",
    "    topmat=np.array([ekytop]*M).ravel()\n",
    "    botmat=np.array([ekybot]*M).ravel()\n",
    "\n",
    "    data=[botmat,-Imat*np.conjugate(ekx),-Imat,-Ibotmat,4.*Imat + dr2*U.ravel(),-Itopmat,-Imat,-Imat*ekx,topmat]\n",
    "    offset=[-(M-1),-M*(M-1),-M,-1,0,1,M,M*(M-1),M-1]\n",
    "    dmatrix=dia_matrix((data, offset), shape=(M*M, M*M))\n",
    "    spmatrix=csc_matrix(dmatrix)\n",
    "    evals=np.sort(eigsh(spmatrix, return_eigenvectors=False, k=Nvals, sigma=0))/dr2\n",
    "\n",
    "#    matrix=dmatrix.toarray()\n",
    "#    evals0=np.linalg.eigvalsh(matrix)[:Nvals]/dr2\n",
    "\n",
    "    evlist.append(evals)\n",
    "\n",
    "evlist=np.array(evlist)\n",
    "\n",
    "#np.savez('U'+str(Ulist[nu])+'_Pky_'+str(Pky),kxrange=kxrange,evlist=evlist)\n",
    "\n",
    "print('#')\n",
    "print(\"# Timing: %.f seconds\" % (time.time()-start_time))\n",
    "print('#')"
   ]
  },
  {
   "cell_type": "code",
   "execution_count": 23,
   "metadata": {},
   "outputs": [
    {
     "name": "stdout",
     "output_type": "stream",
     "text": [
      "check:\n",
      "n: 0, m: 0, E: 0.000000\n",
      "n: 1, m: 0, E: 39.478418\n",
      "n: 2, m: 0, E: 157.913670\n",
      "n: 3, m: 0, E: 355.305758\n",
      "n: 0, m: 1, E: 39.478418\n",
      "n: 1, m: 1, E: 78.956835\n",
      "n: 2, m: 1, E: 197.392088\n",
      "n: 3, m: 1, E: 394.784176\n",
      "n: 0, m: 2, E: 157.913670\n",
      "n: 1, m: 2, E: 197.392088\n",
      "n: 2, m: 2, E: 315.827341\n",
      "n: 3, m: 2, E: 513.219429\n",
      "n: 0, m: 3, E: 355.305758\n",
      "n: 1, m: 3, E: 394.784176\n",
      "n: 2, m: 3, E: 513.219429\n",
      "n: 3, m: 3, E: 710.611517\n"
     ]
    }
   ],
   "source": [
    "print('check:')\n",
    "for m in range(4):\n",
    "    for n in range(4):\n",
    "        print('n: %d, m: %d, E: %f' % ( n, m, (2.*math.pi/Lcell)**2*(m*m+n*n) ))"
   ]
  },
  {
   "cell_type": "code",
   "execution_count": 35,
   "metadata": {},
   "outputs": [
    {
     "data": {
      "image/png": "[encoded data removed]",
      "text/plain": [
       "<Figure size 360x432 with 1 Axes>"
      ]
     },
     "metadata": {},
     "output_type": "display_data"
    }
   ],
   "source": [
    "### Source: cbands.py\n",
    "\n",
    "plt.rc('font', family='serif', size=18)\n",
    "fig, ax = plt.subplots(figsize=(5,6))\n",
    "\n",
    "for i in range(evlist.shape[1]):\n",
    "    ax.plot(kxrange/dum,E0*evlist[:,i],'k')\n",
    "\n",
    "ax.set_xlim([kxrange[0]/dum,kxrange[-1]/dum])\n",
    "ax.set_ylim([0,6])\n",
    "ax.set_xlabel(r\"$k, \\rm \\mu m^{-1}$\")\n",
    "ax.set_ylabel(r\"$E, \\rm meV$\")\n",
    "ax.set_xticks([-2,-1,0,1,2])\n",
    "plt.show()"
   ]
  },
  {
   "cell_type": "code",
   "execution_count": 41,
   "metadata": {},
   "outputs": [],
   "source": [
    "### Source: lieb-vectors.py\n",
    "\n",
    "from pylab import *\n",
    "from scipy.sparse import csc_matrix\n",
    "from scipy.sparse import dia_matrix\n",
    "from scipy.sparse.linalg import eigsh\n",
    "import time\n",
    "\n",
    "kx=math.pi\n",
    "ky=math.pi\n",
    "\n",
    "\n",
    "Nvals=30\n",
    "\n",
    "### Constructing matrix\n",
    "\n",
    "Imat=np.ones(M*M,dtype=np.complex128)\n",
    "\n",
    "Itop=np.ones(M,dtype=np.complex128)\n",
    "Itop[0]=0.\n",
    "Itopmat=np.array([Itop]*M).ravel()\n",
    "\n",
    "Ibot=np.ones(M,dtype=np.complex128)\n",
    "Ibot[-1]=0.\n",
    "Ibotmat=np.array([Ibot]*M).ravel()\n",
    "\n",
    "start_time = time.time()\n",
    "\n",
    "ekx=np.exp(-1j*kx*Lcell)\n",
    "eky=np.exp(-1j*ky*Lcell)\n",
    "ekytop=np.zeros(M,dtype=np.complex128)\n",
    "ekybot=np.zeros(M,dtype=np.complex128)\n",
    "ekytop[-1]=-eky\n",
    "ekybot[0]=-conjugate(eky)\n",
    "topmat=np.array([ekytop]*M).ravel()\n",
    "botmat=np.array([ekybot]*M).ravel()\n",
    "\n",
    "data=[botmat,-Imat*conjugate(ekx),-Imat,-Ibotmat,4.*Imat + dr2*U.ravel(),-Itopmat,-Imat,-Imat*ekx,topmat]\n",
    "offset=[-(M-1),-M*(M-1),-M,-1,0,1,M,M*(M-1),M-1]\n",
    "dmatrix=dia_matrix((data, offset), shape=(M*M, M*M))\n",
    "spmatrix=csc_matrix(dmatrix)\n",
    "#evals=sort(eigsh(spmatrix, return_eigenvectors=False, k=Nvals, sigma=0))/dr2\n",
    "evalsunsorted,Tevecs=eigsh(spmatrix, return_eigenvectors=True, k=Nvals, sigma=0)\n",
    "evalsunsorted/=dr2\n",
    "evecsunsorted=Tevecs.T\n",
    "\n",
    "inds=argsort(evalsunsorted)\n",
    "evals=evalsunsorted[inds]\n",
    "evecs=evecsunsorted[inds]\n",
    "\n",
    "# np.savez('temp',temp=temp)\n",
    "\n",
    "#print('#')\n",
    "#print(\"# Timing: %.f seconds\" % (time.time()-start_time))\n",
    "#print('#')\n",
    "\n",
    "#els=np.where((ens>2) & (ens<2.5))\n",
    "#print('Selected values (sparse):')\n",
    "#print(ens[els])\n",
    "\n",
    "\n",
    "### Calculating eigenvalues: general\n",
    "start_time = time.time()\n",
    "matrix=dmatrix.toarray()\n",
    "evals0=np.linalg.eigvalsh(matrix)[:Nvals]/dr2\n",
    "ens0=E0*evals0\n",
    "#print('#')\n",
    "#print(\"# Timing: %.f seconds\" % (time.time()-start_time))\n",
    "#print('#')\n",
    "\n",
    "#print('Selected values (general method):')\n",
    "#print(ens0[els])"
   ]
  },
  {
   "cell_type": "code",
   "execution_count": 72,
   "metadata": {},
   "outputs": [
    {
     "data": {
      "image/png": "[encoded data removed]",
      "text/plain": [
       "<Figure size 1080x144 with 10 Axes>"
      ]
     },
     "metadata": {},
     "output_type": "display_data"
    }
   ],
   "source": [
    "### Source: cvec.py\n",
    "\n",
    "nvmax=10 # number of eigenvectors to display\n",
    "plt.rc('font', family='serif', size=18)\n",
    "fig, ax = plt.subplots(1,nvmax,figsize=(15,2))\n",
    "\n",
    "#print('Eigenvalue:')\n",
    "#print(ens0[els])\n",
    "\n",
    "cmap=plt.get_cmap('Blues')\n",
    "\n",
    "for nv in range(nvmax):\n",
    "    data=np.abs(evecs[nv]).reshape(M,M)\n",
    "    ax[nv].imshow(data.T,interpolation='nearest', cmap = cmap, origin='lower')\n",
    "    ax[nv].set_xticks([])\n",
    "    ax[nv].set_yticks([])\n",
    "\n",
    "plt.tight_layout()\n",
    "plt.show()"
   ]
  },
  {
   "cell_type": "code",
   "execution_count": null,
   "metadata": {},
   "outputs": [],
   "source": []
  }
 ],
 "metadata": {
  "kernelspec": {
   "display_name": "Python 3",
   "language": "python",
   "name": "python3"
  },
  "language_info": {
   "codemirror_mode": {
    "name": "ipython",
    "version": 3
   },
   "file_extension": ".py",
   "mimetype": "text/x-python",
   "name": "python",
   "nbconvert_exporter": "python",
   "pygments_lexer": "ipython3",
   "version": "3.6.5"
  }
 },
 "nbformat": 4,
 "nbformat_minor": 2
}
